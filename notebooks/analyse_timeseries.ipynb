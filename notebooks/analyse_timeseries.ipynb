{
 "cells": [
  {
   "cell_type": "code",
   "execution_count": null,
   "metadata": {},
   "outputs": [
    {
     "name": "stderr",
     "output_type": "stream",
     "text": [
      "Seed set to 42\n"
     ]
    },
    {
     "data": {
      "text/plain": [
       "42"
      ]
     },
     "execution_count": 6,
     "metadata": {},
     "output_type": "execute_result"
    }
   ],
   "source": [
    "import pandas as pd\n",
    "from concurrent.futures import ThreadPoolExecutor\n",
    "import warnings\n",
    "import os\n",
    "from tqdm import tqdm\n",
    "import pytorch_lightning as pl\n",
    "from torch.utils.data import DataLoader, Dataset, random_split\n",
    "from torch import nn\n",
    "from pytorch_lightning import seed_everything, Trainer, loggers\n",
    "from pytorch_lightning.callbacks import ModelCheckpoint, EarlyStopping, LearningRateMonitor\n",
    "import torch\n",
    "\n",
    "warnings.filterwarnings('ignore')\n",
    "seed_everything(42)\n",
    "torch.set_float32_matmul_precision('medium')"
   ]
  },
  {
   "cell_type": "code",
   "execution_count": 7,
   "metadata": {},
   "outputs": [
    {
     "data": {
      "text/html": [
       "<div>\n",
       "<style scoped>\n",
       "    .dataframe tbody tr th:only-of-type {\n",
       "        vertical-align: middle;\n",
       "    }\n",
       "\n",
       "    .dataframe tbody tr th {\n",
       "        vertical-align: top;\n",
       "    }\n",
       "\n",
       "    .dataframe thead th {\n",
       "        text-align: right;\n",
       "    }\n",
       "</style>\n",
       "<table border=\"1\" class=\"dataframe\">\n",
       "  <thead>\n",
       "    <tr style=\"text-align: right;\">\n",
       "      <th></th>\n",
       "      <th>step</th>\n",
       "      <th>X</th>\n",
       "      <th>Y</th>\n",
       "      <th>Z</th>\n",
       "      <th>enmo</th>\n",
       "      <th>anglez</th>\n",
       "      <th>non-wear_flag</th>\n",
       "      <th>light</th>\n",
       "      <th>battery_voltage</th>\n",
       "      <th>time_of_day</th>\n",
       "      <th>weekday</th>\n",
       "      <th>quarter</th>\n",
       "      <th>relative_date_PCIAT</th>\n",
       "    </tr>\n",
       "  </thead>\n",
       "  <tbody>\n",
       "    <tr>\n",
       "      <th>0</th>\n",
       "      <td>0</td>\n",
       "      <td>-0.075242</td>\n",
       "      <td>-0.256743</td>\n",
       "      <td>-0.973791</td>\n",
       "      <td>0.038081</td>\n",
       "      <td>-72.952141</td>\n",
       "      <td>0.0</td>\n",
       "      <td>5.0</td>\n",
       "      <td>4202.000000</td>\n",
       "      <td>51250000000000</td>\n",
       "      <td>2</td>\n",
       "      <td>4</td>\n",
       "      <td>-9.0</td>\n",
       "    </tr>\n",
       "    <tr>\n",
       "      <th>1</th>\n",
       "      <td>1</td>\n",
       "      <td>-0.265893</td>\n",
       "      <td>-0.270508</td>\n",
       "      <td>-0.765470</td>\n",
       "      <td>0.077430</td>\n",
       "      <td>-52.849220</td>\n",
       "      <td>0.0</td>\n",
       "      <td>0.5</td>\n",
       "      <td>4185.333496</td>\n",
       "      <td>51255000000000</td>\n",
       "      <td>2</td>\n",
       "      <td>4</td>\n",
       "      <td>-9.0</td>\n",
       "    </tr>\n",
       "    <tr>\n",
       "      <th>2</th>\n",
       "      <td>2</td>\n",
       "      <td>0.334517</td>\n",
       "      <td>-0.548602</td>\n",
       "      <td>-0.588596</td>\n",
       "      <td>0.039162</td>\n",
       "      <td>-44.118084</td>\n",
       "      <td>0.0</td>\n",
       "      <td>11.5</td>\n",
       "      <td>4185.500000</td>\n",
       "      <td>51260000000000</td>\n",
       "      <td>2</td>\n",
       "      <td>4</td>\n",
       "      <td>-9.0</td>\n",
       "    </tr>\n",
       "    <tr>\n",
       "      <th>3</th>\n",
       "      <td>3</td>\n",
       "      <td>0.000193</td>\n",
       "      <td>-0.021069</td>\n",
       "      <td>-0.999681</td>\n",
       "      <td>0.001450</td>\n",
       "      <td>-88.759613</td>\n",
       "      <td>0.0</td>\n",
       "      <td>0.0</td>\n",
       "      <td>4185.666504</td>\n",
       "      <td>51265000000000</td>\n",
       "      <td>2</td>\n",
       "      <td>4</td>\n",
       "      <td>-9.0</td>\n",
       "    </tr>\n",
       "    <tr>\n",
       "      <th>4</th>\n",
       "      <td>4</td>\n",
       "      <td>-0.000685</td>\n",
       "      <td>-0.020681</td>\n",
       "      <td>-0.997677</td>\n",
       "      <td>0.000491</td>\n",
       "      <td>-88.756958</td>\n",
       "      <td>0.0</td>\n",
       "      <td>8.5</td>\n",
       "      <td>4185.833496</td>\n",
       "      <td>51270000000000</td>\n",
       "      <td>2</td>\n",
       "      <td>4</td>\n",
       "      <td>-9.0</td>\n",
       "    </tr>\n",
       "  </tbody>\n",
       "</table>\n",
       "</div>"
      ],
      "text/plain": [
       "   step         X         Y         Z      enmo     anglez  non-wear_flag  \\\n",
       "0     0 -0.075242 -0.256743 -0.973791  0.038081 -72.952141            0.0   \n",
       "1     1 -0.265893 -0.270508 -0.765470  0.077430 -52.849220            0.0   \n",
       "2     2  0.334517 -0.548602 -0.588596  0.039162 -44.118084            0.0   \n",
       "3     3  0.000193 -0.021069 -0.999681  0.001450 -88.759613            0.0   \n",
       "4     4 -0.000685 -0.020681 -0.997677  0.000491 -88.756958            0.0   \n",
       "\n",
       "   light  battery_voltage     time_of_day  weekday  quarter  \\\n",
       "0    5.0      4202.000000  51250000000000        2        4   \n",
       "1    0.5      4185.333496  51255000000000        2        4   \n",
       "2   11.5      4185.500000  51260000000000        2        4   \n",
       "3    0.0      4185.666504  51265000000000        2        4   \n",
       "4    8.5      4185.833496  51270000000000        2        4   \n",
       "\n",
       "   relative_date_PCIAT  \n",
       "0                 -9.0  \n",
       "1                 -9.0  \n",
       "2                 -9.0  \n",
       "3                 -9.0  \n",
       "4                 -9.0  "
      ]
     },
     "execution_count": 7,
     "metadata": {},
     "output_type": "execute_result"
    }
   ],
   "source": [
    "df = pd.read_parquet(\"../data/input/series_train.parquet/id=0a418b57/part-0.parquet\").sort_values(\"step\")\n",
    "df.head()"
   ]
  },
  {
   "cell_type": "code",
   "execution_count": null,
   "metadata": {},
   "outputs": [],
   "source": [
    "class LSTM(pl.LightningModule):\n",
    "\n",
    "    def __init__(self, hidden_size, seq_length, lr, criterion, num_classes=4):\n",
    "        super(LSTM, self).__init__()\n",
    "        self.hidden_size = hidden_size\n",
    "        self.seq_length = seq_length\n",
    "        self.lr = lr\n",
    "        self.criterion = criterion\n",
    "        self.lstm = nn.LSTM(input_size=self.seq_length, hidden_size=self.hidden_size, num_layers=1, batch_first=True)\n",
    "        self.latent = nn.Linear(self.hidden_size, self.hidden_size)\n",
    "        self.linear = nn.Linear(self.hidden_size, num_classes)\n",
    "\n",
    "    def forward(self, x):\n",
    "        lstm_out, _ = self.lstm(x)\n",
    "        latent = self.latent(lstm_out[:, -1, :])\n",
    "        y_pred = self.linear(latent)\n",
    "        return latent, y_pred\n",
    "\n",
    "    def training_step(self, batch, batch_idx):\n",
    "        x, y = batch\n",
    "        y_pred = self(x)\n",
    "        # print(\"DEBUG \", y_pred.dtype, y.dtype)\n",
    "        loss = self.criterion(y_pred, y)\n",
    "        self.log('train_loss', loss, on_step=True, on_epoch=True, prog_bar=False, logger=True)\n",
    "        if TUNING: wandb.log({\"train_loss\": loss, \"epoch\": self.current_epoch})\n",
    "        return loss\n",
    "\n",
    "    def validation_step(self, batch, batch_idx):\n",
    "        x, y = batch\n",
    "        y_pred = self(x)\n",
    "        loss = self.criterion(y_pred, y)\n",
    "        self.log('val_loss', loss, on_step=True, on_epoch=True, prog_bar=False, logger=True)\n",
    "        if TUNING: wandb.log({\"val_loss\": loss, \"epoch\": self.current_epoch})\n",
    "        return loss\n",
    "\n",
    "\n",
    "\n",
    "    def predict_step(self, batch, batch_idx):\n",
    "        x = batch\n",
    "        y_pred = self(x)\n",
    "        return y_pred\n",
    "\n",
    "    def configure_optimizers(self):\n",
    "        optimizer = torch.optim.Adam(self.parameters(), lr=self.lr)\n",
    "        scheduler = torch.optim.lr_scheduler.ReduceLROnPlateau(optimizer, patience=3, factor=0.9, verbose=True)\n",
    "        return {\n",
    "                'optimizer': optimizer,\n",
    "                'scheduler': scheduler,\n",
    "                'monitor': 'val_loss_epoch'\n",
    "                }\n",
    "\n",
    "    def lr_scheduler_step(self, scheduler, metric):\n",
    "        if metric is not None:\n",
    "            scheduler.step(metric)\n",
    "        else:\n",
    "            scheduler.step()"
   ]
  },
  {
   "cell_type": "code",
   "execution_count": 9,
   "metadata": {},
   "outputs": [],
   "source": [
    "def process_file(filename, dirname):\n",
    "    data = pd.read_parquet(os.path.join(dirname, filename, 'part-0.parquet'))\n",
    "    data = data.sort_values(by='step', ascending=True)\n",
    "    data = data.drop('step', axis=1)\n",
    "    data['id'] = filename.split('=')[1]\n",
    "    return data\n",
    "\n",
    "def load_time_series(dirname):\n",
    "    ids = [f for f in os.listdir(dirname) if not f.startswith('.')]\n",
    "    # print(f'{ids} files found')\n",
    "    with ThreadPoolExecutor() as executor:\n",
    "        results = list(tqdm(executor.map(lambda fname: process_file(fname, dirname), ids), total=len(ids)))\n",
    "    return pd.concat(results)"
   ]
  },
  {
   "cell_type": "code",
   "execution_count": 10,
   "metadata": {},
   "outputs": [
    {
     "name": "stderr",
     "output_type": "stream",
     "text": [
      "  0%|          | 0/996 [00:00<?, ?it/s]"
     ]
    },
    {
     "name": "stderr",
     "output_type": "stream",
     "text": [
      "100%|██████████| 996/996 [00:06<00:00, 161.15it/s]\n"
     ]
    },
    {
     "data": {
      "text/plain": [
       "(314569149, 13)"
      ]
     },
     "execution_count": 10,
     "metadata": {},
     "output_type": "execute_result"
    }
   ],
   "source": [
    "train_parquet = load_time_series(\"../data/input/series_train.parquet\")\n",
    "# test_parquet = load_time_series(\"../data/input/series_test.parquet\")\n",
    "train_parquet.shape"
   ]
  }
 ],
 "metadata": {
  "kernelspec": {
   "display_name": ".venv",
   "language": "python",
   "name": "python3"
  },
  "language_info": {
   "codemirror_mode": {
    "name": "ipython",
    "version": 3
   },
   "file_extension": ".py",
   "mimetype": "text/x-python",
   "name": "python",
   "nbconvert_exporter": "python",
   "pygments_lexer": "ipython3",
   "version": "3.11.10"
  }
 },
 "nbformat": 4,
 "nbformat_minor": 2
}
