{
 "cells": [
  {
   "cell_type": "code",
   "execution_count": 1,
   "id": "ad5b7d4b",
   "metadata": {},
   "outputs": [
    {
     "name": "stdout",
     "output_type": "stream",
     "text": [
      "Warning: Your Kaggle API key is readable by other users on this system! To fix this, you can run 'chmod 600 /home/runai-home/.kaggle/kaggle.json'\n"
     ]
    }
   ],
   "source": [
    "import numpy as np\n",
    "import pandas as pd\n",
    "import seaborn as sns\n",
    "import kaggle\n",
    "import zipfile\n",
    "from os.path import join as j"
   ]
  },
  {
   "cell_type": "code",
   "execution_count": 2,
   "id": "cf0c9c03",
   "metadata": {},
   "outputs": [],
   "source": [
    "DOWNLOAD_DIR = '../data'\n",
    "COMPETITION_NAME = 'child-mind-institute-problematic-internet-use'\n",
    "ZIP_FILE_NAME = j(DOWNLOAD_DIR, f'{COMPETITION_NAME}.zip')"
   ]
  },
  {
   "cell_type": "code",
   "execution_count": 3,
   "id": "c5246303",
   "metadata": {},
   "outputs": [
    {
     "name": "stdout",
     "output_type": "stream",
     "text": [
      "Downloading child-mind-institute-problematic-internet-use.zip to ../data\n"
     ]
    },
    {
     "name": "stderr",
     "output_type": "stream",
     "text": [
      "100%|██████████| 6.21G/6.21G [01:11<00:00, 93.1MB/s]"
     ]
    },
    {
     "name": "stdout",
     "output_type": "stream",
     "text": [
      "\n"
     ]
    },
    {
     "name": "stderr",
     "output_type": "stream",
     "text": [
      "\n"
     ]
    }
   ],
   "source": [
    "# download competitions\n",
    "kaggle.api.competition_download_files(competition=COMPETITION_NAME,\n",
    "                                     path=DOWNLOAD_DIR,\n",
    "                                     force=False,\n",
    "                                     quiet=False,\n",
    "                                     )"
   ]
  },
  {
   "cell_type": "code",
   "execution_count": 4,
   "id": "67673569",
   "metadata": {},
   "outputs": [],
   "source": [
    "with zipfile.ZipFile(ZIP_FILE_NAME) as zf:\n",
    "    zf.extractall(j(\"..\", \"data\"))"
   ]
  },
  {
   "cell_type": "code",
   "execution_count": 5,
   "id": "d7a1ac5c",
   "metadata": {},
   "outputs": [],
   "source": [
    "# remove the zip file\n",
    "import os\n",
    "os.remove(ZIP_FILE_NAME)"
   ]
  },
  {
   "cell_type": "code",
   "execution_count": null,
   "id": "99b9e8e6",
   "metadata": {},
   "outputs": [],
   "source": []
  }
 ],
 "metadata": {
  "kernelspec": {
   "display_name": ".venv",
   "language": "python",
   "name": "python3"
  },
  "language_info": {
   "codemirror_mode": {
    "name": "ipython",
    "version": 3
   },
   "file_extension": ".py",
   "mimetype": "text/x-python",
   "name": "python",
   "nbconvert_exporter": "python",
   "pygments_lexer": "ipython3",
   "version": "3.11.10"
  }
 },
 "nbformat": 4,
 "nbformat_minor": 5
}
