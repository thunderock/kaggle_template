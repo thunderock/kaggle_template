{
 "cells": [
  {
   "cell_type": "code",
   "execution_count": 1,
   "id": "d3b04c48",
   "metadata": {},
   "outputs": [],
   "source": [
    "import pandas as pd\n",
    "import seaborn as sns\n"
   ]
  },
  {
   "cell_type": "code",
   "execution_count": 2,
   "id": "37630004",
   "metadata": {},
   "outputs": [],
   "source": [
    "TRAIN_FEATURE_INPUT = \"../data/features/train_features.csv\"\n",
    "TRAIN_TIMESERIES = \"../data/features/train_timeseries.csv\"\n",
    "TEST_FEATURE_INPUT = \"../data/features/test_features.csv\"\n",
    "TEST_TIMESERIES = \"../data/features/test_timeseries.csv\"\n",
    "TRAIN_WIDE_DF = \"../data/features/train_wide_df.csv\"\n",
    "TEST_WIDE_DF = \"../data/features/test_wide_df.csv\""
   ]
  },
  {
   "cell_type": "code",
   "execution_count": 3,
   "id": "aea53bee",
   "metadata": {},
   "outputs": [],
   "source": [
    "train_df = pd.read_csv(TRAIN_FEATURE_INPUT)\n",
    "train_ts = pd.read_csv(TRAIN_TIMESERIES)\n",
    "test_df = pd.read_csv(TEST_FEATURE_INPUT)\n",
    "test_ts = pd.read_csv(TEST_TIMESERIES)"
   ]
  },
  {
   "cell_type": "code",
   "execution_count": 4,
   "id": "2f5d379c",
   "metadata": {},
   "outputs": [
    {
     "data": {
      "text/plain": [
       "((2736, 70), (20, 69), (996, 121), (2, 121))"
      ]
     },
     "execution_count": 4,
     "metadata": {},
     "output_type": "execute_result"
    }
   ],
   "source": [
    "train_df.shape, test_df.shape, train_ts.shape, test_ts.shape"
   ]
  },
  {
   "cell_type": "code",
   "execution_count": 5,
   "id": "c9f0a7fa",
   "metadata": {},
   "outputs": [
    {
     "data": {
      "text/html": [
       "<div>\n",
       "<style scoped>\n",
       "    .dataframe tbody tr th:only-of-type {\n",
       "        vertical-align: middle;\n",
       "    }\n",
       "\n",
       "    .dataframe tbody tr th {\n",
       "        vertical-align: top;\n",
       "    }\n",
       "\n",
       "    .dataframe thead th {\n",
       "        text-align: right;\n",
       "    }\n",
       "</style>\n",
       "<table border=\"1\" class=\"dataframe\">\n",
       "  <thead>\n",
       "    <tr style=\"text-align: right;\">\n",
       "      <th></th>\n",
       "      <th>Basic_Demos-Enroll_Season</th>\n",
       "      <th>Basic_Demos-Age</th>\n",
       "      <th>Basic_Demos-Sex</th>\n",
       "      <th>CGAS-Season</th>\n",
       "      <th>CGAS-CGAS_Score</th>\n",
       "      <th>Physical-Season</th>\n",
       "      <th>Physical-BMI</th>\n",
       "      <th>Physical-Height</th>\n",
       "      <th>Physical-Weight</th>\n",
       "      <th>Physical-Waist_Circumference</th>\n",
       "      <th>...</th>\n",
       "      <th>Physical-Season.1</th>\n",
       "      <th>Fitness_Endurance-Season.1</th>\n",
       "      <th>FGC-Season.1</th>\n",
       "      <th>BIA-Season.1</th>\n",
       "      <th>PAQ_A-Season.1</th>\n",
       "      <th>PAQ_C-Season.1</th>\n",
       "      <th>SDS-Season.1</th>\n",
       "      <th>PreInt_EduHx-Season.1</th>\n",
       "      <th>id</th>\n",
       "      <th>sii</th>\n",
       "    </tr>\n",
       "  </thead>\n",
       "  <tbody>\n",
       "    <tr>\n",
       "      <th>0</th>\n",
       "      <td>-1.334294</td>\n",
       "      <td>-1.528487</td>\n",
       "      <td>-0.757178</td>\n",
       "      <td>0.87588</td>\n",
       "      <td>-1.296014</td>\n",
       "      <td>-1.312201</td>\n",
       "      <td>-0.476635</td>\n",
       "      <td>-1.392050</td>\n",
       "      <td>-0.881360</td>\n",
       "      <td>1.618361e-15</td>\n",
       "      <td>...</td>\n",
       "      <td>-1.312201</td>\n",
       "      <td>0.790228</td>\n",
       "      <td>-1.328323</td>\n",
       "      <td>-1.500866</td>\n",
       "      <td>0.351106</td>\n",
       "      <td>0.882046</td>\n",
       "      <td>1.842513</td>\n",
       "      <td>-1.320530</td>\n",
       "      <td>00008ff9</td>\n",
       "      <td>2</td>\n",
       "    </tr>\n",
       "    <tr>\n",
       "      <th>1</th>\n",
       "      <td>0.463160</td>\n",
       "      <td>-0.361407</td>\n",
       "      <td>-0.757178</td>\n",
       "      <td>1.61460</td>\n",
       "      <td>0.000000</td>\n",
       "      <td>-1.312201</td>\n",
       "      <td>-1.079060</td>\n",
       "      <td>-1.110744</td>\n",
       "      <td>-0.995576</td>\n",
       "      <td>-2.106935e+00</td>\n",
       "      <td>...</td>\n",
       "      <td>-1.312201</td>\n",
       "      <td>0.790228</td>\n",
       "      <td>-1.328323</td>\n",
       "      <td>0.495101</td>\n",
       "      <td>0.351106</td>\n",
       "      <td>-1.863435</td>\n",
       "      <td>-1.344537</td>\n",
       "      <td>0.457069</td>\n",
       "      <td>000fd460</td>\n",
       "      <td>0</td>\n",
       "    </tr>\n",
       "    <tr>\n",
       "      <th>2</th>\n",
       "      <td>0.463160</td>\n",
       "      <td>-0.069637</td>\n",
       "      <td>1.320694</td>\n",
       "      <td>-1.34028</td>\n",
       "      <td>0.534609</td>\n",
       "      <td>-1.312201</td>\n",
       "      <td>-0.525100</td>\n",
       "      <td>0.084807</td>\n",
       "      <td>-0.291242</td>\n",
       "      <td>1.618361e-15</td>\n",
       "      <td>...</td>\n",
       "      <td>-1.312201</td>\n",
       "      <td>-1.914042</td>\n",
       "      <td>-1.328323</td>\n",
       "      <td>1.160423</td>\n",
       "      <td>0.351106</td>\n",
       "      <td>-0.490695</td>\n",
       "      <td>-1.344537</td>\n",
       "      <td>0.457069</td>\n",
       "      <td>00105258</td>\n",
       "      <td>0</td>\n",
       "    </tr>\n",
       "    <tr>\n",
       "      <th>3</th>\n",
       "      <td>1.361886</td>\n",
       "      <td>-0.361407</td>\n",
       "      <td>-0.757178</td>\n",
       "      <td>-1.34028</td>\n",
       "      <td>0.534609</td>\n",
       "      <td>0.327526</td>\n",
       "      <td>-0.176658</td>\n",
       "      <td>0.014480</td>\n",
       "      <td>-0.148472</td>\n",
       "      <td>1.618361e-15</td>\n",
       "      <td>...</td>\n",
       "      <td>0.327526</td>\n",
       "      <td>-0.561907</td>\n",
       "      <td>0.403529</td>\n",
       "      <td>-0.170221</td>\n",
       "      <td>0.351106</td>\n",
       "      <td>0.195676</td>\n",
       "      <td>0.248988</td>\n",
       "      <td>1.345869</td>\n",
       "      <td>00115b9f</td>\n",
       "      <td>1</td>\n",
       "    </tr>\n",
       "    <tr>\n",
       "      <th>4</th>\n",
       "      <td>-0.435567</td>\n",
       "      <td>0.805674</td>\n",
       "      <td>1.320694</td>\n",
       "      <td>0.87588</td>\n",
       "      <td>-1.387545</td>\n",
       "      <td>0.327526</td>\n",
       "      <td>0.668686</td>\n",
       "      <td>0.506766</td>\n",
       "      <td>0.579658</td>\n",
       "      <td>1.618361e-15</td>\n",
       "      <td>...</td>\n",
       "      <td>0.327526</td>\n",
       "      <td>0.790228</td>\n",
       "      <td>0.403529</td>\n",
       "      <td>-0.170221</td>\n",
       "      <td>0.351106</td>\n",
       "      <td>-1.177065</td>\n",
       "      <td>0.248988</td>\n",
       "      <td>-0.431731</td>\n",
       "      <td>001f3379</td>\n",
       "      <td>1</td>\n",
       "    </tr>\n",
       "  </tbody>\n",
       "</table>\n",
       "<p>5 rows × 70 columns</p>\n",
       "</div>"
      ],
      "text/plain": [
       "   Basic_Demos-Enroll_Season  Basic_Demos-Age  Basic_Demos-Sex  CGAS-Season  \\\n",
       "0                  -1.334294        -1.528487        -0.757178      0.87588   \n",
       "1                   0.463160        -0.361407        -0.757178      1.61460   \n",
       "2                   0.463160        -0.069637         1.320694     -1.34028   \n",
       "3                   1.361886        -0.361407        -0.757178     -1.34028   \n",
       "4                  -0.435567         0.805674         1.320694      0.87588   \n",
       "\n",
       "   CGAS-CGAS_Score  Physical-Season  Physical-BMI  Physical-Height  \\\n",
       "0        -1.296014        -1.312201     -0.476635        -1.392050   \n",
       "1         0.000000        -1.312201     -1.079060        -1.110744   \n",
       "2         0.534609        -1.312201     -0.525100         0.084807   \n",
       "3         0.534609         0.327526     -0.176658         0.014480   \n",
       "4        -1.387545         0.327526      0.668686         0.506766   \n",
       "\n",
       "   Physical-Weight  Physical-Waist_Circumference  ...  Physical-Season.1  \\\n",
       "0        -0.881360                  1.618361e-15  ...          -1.312201   \n",
       "1        -0.995576                 -2.106935e+00  ...          -1.312201   \n",
       "2        -0.291242                  1.618361e-15  ...          -1.312201   \n",
       "3        -0.148472                  1.618361e-15  ...           0.327526   \n",
       "4         0.579658                  1.618361e-15  ...           0.327526   \n",
       "\n",
       "   Fitness_Endurance-Season.1  FGC-Season.1  BIA-Season.1  PAQ_A-Season.1  \\\n",
       "0                    0.790228     -1.328323     -1.500866        0.351106   \n",
       "1                    0.790228     -1.328323      0.495101        0.351106   \n",
       "2                   -1.914042     -1.328323      1.160423        0.351106   \n",
       "3                   -0.561907      0.403529     -0.170221        0.351106   \n",
       "4                    0.790228      0.403529     -0.170221        0.351106   \n",
       "\n",
       "   PAQ_C-Season.1  SDS-Season.1  PreInt_EduHx-Season.1        id  sii  \n",
       "0        0.882046      1.842513              -1.320530  00008ff9    2  \n",
       "1       -1.863435     -1.344537               0.457069  000fd460    0  \n",
       "2       -0.490695     -1.344537               0.457069  00105258    0  \n",
       "3        0.195676      0.248988               1.345869  00115b9f    1  \n",
       "4       -1.177065      0.248988              -0.431731  001f3379    1  \n",
       "\n",
       "[5 rows x 70 columns]"
      ]
     },
     "execution_count": 5,
     "metadata": {},
     "output_type": "execute_result"
    }
   ],
   "source": [
    "train_df.head()"
   ]
  },
  {
   "cell_type": "code",
   "execution_count": 6,
   "id": "55da4417",
   "metadata": {},
   "outputs": [
    {
     "data": {
      "text/plain": [
       "(True, True)"
      ]
     },
     "execution_count": 6,
     "metadata": {},
     "output_type": "execute_result"
    }
   ],
   "source": [
    "\n",
    "all([i in train_df.id.tolist() for i in train_ts.id.tolist()]), all([i in test_df.id.tolist() for i in test_ts.id.tolist()])"
   ]
  },
  {
   "cell_type": "code",
   "execution_count": 7,
   "id": "1c287666",
   "metadata": {},
   "outputs": [
    {
     "data": {
      "text/plain": [
       "((2736, 70), (20, 69), (996, 190), (2, 189))"
      ]
     },
     "execution_count": 7,
     "metadata": {},
     "output_type": "execute_result"
    }
   ],
   "source": [
    "\n",
    "# two train datasets, one with features and one with features + timeseries\n",
    "train_wide_df = pd.merge(train_df, train_ts, on=\"id\")\n",
    "test_wide_df = pd.merge(test_df, test_ts, on=\"id\")\n",
    "\n",
    "train_df.shape, test_df.shape, train_wide_df.shape, test_wide_df.shape"
   ]
  },
  {
   "cell_type": "code",
   "execution_count": null,
   "id": "24b14740",
   "metadata": {},
   "outputs": [],
   "source": [
    "\n",
    "train_wide_df.to_csv(TRAIN_WIDE_DF, index=False)\n",
    "test_wide_df.to_csv(TEST_WIDE_DF, index=False)"
   ]
  }
 ],
 "metadata": {
  "kernelspec": {
   "display_name": ".venv",
   "language": "python",
   "name": "python3"
  },
  "language_info": {
   "codemirror_mode": {
    "name": "ipython",
    "version": 3
   },
   "file_extension": ".py",
   "mimetype": "text/x-python",
   "name": "python",
   "nbconvert_exporter": "python",
   "pygments_lexer": "ipython3",
   "version": "3.11.10"
  }
 },
 "nbformat": 4,
 "nbformat_minor": 5
}
