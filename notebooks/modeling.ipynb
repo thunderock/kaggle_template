{
 "cells": [
  {
   "cell_type": "code",
   "execution_count": 1,
   "metadata": {},
   "outputs": [],
   "source": [
    "import pandas as pd\n",
    "import seaborn as sns"
   ]
  },
  {
   "cell_type": "code",
   "execution_count": 2,
   "metadata": {},
   "outputs": [],
   "source": [
    "TRAIN_DF = '../data/features/train_features.csv'\n",
    "TRAIN_WIDE_DF = '../data/features/train_wide.csv'\n",
    "TEST_DF = '../data/features/test_features.csv'\n",
    "TEST_WIDE_DF = '../data/features/test_wide.csv'\n",
    "SUBMISSION_FILE = '../data/input/sample_submission.csv'\n"
   ]
  },
  {
   "cell_type": "code",
   "execution_count": 7,
   "metadata": {},
   "outputs": [],
   "source": [
    "train_df = pd.read_csv(TRAIN_DF).set_index('id', drop=False)\n",
    "train_wide_df = pd.read_csv(TRAIN_WIDE_DF).set_index('id', drop=False)\n",
    "test_df = pd.read_csv(TEST_DF).set_index('id', drop=False)\n",
    "test_wide_df = pd.read_csv(TEST_WIDE_DF).set_index('id', drop=False)\n",
    "submission_df = pd.read_csv(SUBMISSION_FILE).set_index('id', drop=False)\n",
    "\n",
    "train_df.index.name = None\n",
    "train_wide_df.index.name = None\n",
    "test_df.index.name = None\n",
    "test_wide_df.index.name = None\n",
    "submission_df.index.name = None\n",
    "# assert all have ids\n",
    "assert all('id' in df.columns for df in [train_df, train_wide_df, test_df, test_wide_df, submission_df])\n"
   ]
  },
  {
   "cell_type": "code",
   "execution_count": 8,
   "metadata": {},
   "outputs": [
    {
     "data": {
      "text/plain": [
       "(2736, 996, 20, 2, 20)"
      ]
     },
     "execution_count": 8,
     "metadata": {},
     "output_type": "execute_result"
    }
   ],
   "source": [
    "train_df_ids = set(train_df['id'])\n",
    "train_wide_df_ids = set(train_wide_df['id'])\n",
    "test_df_ids = set(test_df['id'])\n",
    "test_wide_df_ids = set(test_wide_df['id'])\n",
    "submission_ids = set(submission_df['id'])\n",
    "len(train_df_ids), len(train_wide_df_ids), len(test_df_ids), len(test_wide_df_ids), len(submission_ids)\n"
   ]
  },
  {
   "cell_type": "code",
   "execution_count": 9,
   "metadata": {},
   "outputs": [
    {
     "data": {
      "text/plain": [
       "(0, 1740)"
      ]
     },
     "execution_count": 9,
     "metadata": {},
     "output_type": "execute_result"
    }
   ],
   "source": [
    "# anything common in train_df and train_wide_df\n",
    "len(train_wide_df_ids - train_df_ids), len(train_df_ids - train_wide_df_ids)\n"
   ]
  },
  {
   "cell_type": "code",
   "execution_count": 10,
   "metadata": {},
   "outputs": [
    {
     "data": {
      "text/plain": [
       "(0, 18)"
      ]
     },
     "execution_count": 10,
     "metadata": {},
     "output_type": "execute_result"
    }
   ],
   "source": [
    "# anything common in test_df and test_wide_df\n",
    "len(test_wide_df_ids - test_df_ids), len(test_df_ids - test_wide_df_ids)"
   ]
  },
  {
   "cell_type": "code",
   "execution_count": 11,
   "metadata": {},
   "outputs": [],
   "source": [
    "assert len([i for i in train_wide_df_ids if i not in train_df_ids]) == 0\n",
    "assert len([i for i in test_wide_df_ids if i not in test_df_ids]) == 0"
   ]
  },
  {
   "cell_type": "code",
   "execution_count": 12,
   "metadata": {},
   "outputs": [],
   "source": [
    "# assert that target is same in train_df and train_wide_df for wide ides\n",
    "assert all(train_df[train_df.index.isin(train_wide_df_ids)].sort_values('id').sii == train_wide_df[train_wide_df.index.isin(train_wide_df_ids)].sort_values('id').sii)"
   ]
  },
  {
   "cell_type": "code",
   "execution_count": 13,
   "metadata": {},
   "outputs": [],
   "source": [
    "from sklearn.model_selection import StratifiedKFold"
   ]
  },
  {
   "cell_type": "code",
   "execution_count": 28,
   "metadata": {},
   "outputs": [
    {
     "name": "stdout",
     "output_type": "stream",
     "text": [
      "number of ids from train wide: 801\n",
      "number of ids from val wide: 195\n",
      "number of ids from train wide: 769\n",
      "number of ids from val wide: 227\n",
      "number of ids from train wide: 816\n",
      "number of ids from val wide: 180\n",
      "number of ids from train wide: 796\n",
      "number of ids from val wide: 200\n",
      "number of ids from train wide: 802\n",
      "number of ids from val wide: 194\n"
     ]
    }
   ],
   "source": [
    "kf = StratifiedKFold(n_splits=5, shuffle=True, random_state=42)\n",
    "X, y = train_df.drop('sii', axis=1), train_df['sii']\n",
    "for train_index, test_index in kf.split(X, y):\n",
    "    train_ids = set(X.iloc[train_index]['id'])\n",
    "    print(f\"number of ids from train wide: {len([i for i in train_wide_df_ids if i in train_ids])}\")\n",
    "    val_ids = set(X.iloc[test_index]['id'])\n",
    "    print(f\"number of ids from val wide: {len([i for i in train_wide_df_ids if i in val_ids])}\")\n",
    "    assert len([i for i in train_ids if i not in train_df_ids]) == 0 and len([i for i in val_ids if i not in train_df_ids]) == 0\n",
    "    val_wide_ids = [i for i in train_wide_df_ids if i in val_ids]\n",
    "\n",
    "    ## TRAINING DATA\n",
    "    # narrow data to train\n",
    "    train_df_ = X.iloc[train_index].drop(columns='id').reset_index(drop=True)\n",
    "    train_y_ = y.iloc[train_index].reset_index(drop=True)\n",
    "\n",
    "    # wide data to train\n",
    "    train_wide_df_ = train_wide_df[train_wide_df.index.isin(train_ids)].drop(columns='id').reset_index(drop=True)\n",
    "    train_wide_y_ = train_wide_df[train_wide_df.index.isin(train_ids)]['sii'].reset_index(drop=True)\n",
    "\n",
    "    ## VALIDATION DATA\n",
    "    # narrow data to val\n",
    "    val_df_ = X.iloc[test_index].drop(columns='id').reset_index(drop=True)\n",
    "    val_y_ = y.iloc[test_index].reset_index(drop=True)\n",
    "\n",
    "    # wide data to val to be combined with weights\n",
    "    val_wide_df_ = train_wide_df[train_wide_df.index.isin(val_ids)].sort_values('id').drop(columns='id').reset_index(drop=True)\n",
    "    val_wide_y_ = train_wide_df[train_wide_df.index.isin(val_ids)].sort_values('id').drop(columns='id').reset_index(drop=True)[['sii']]\n",
    "\n",
    "    val_wide_df_from_narrow_ = X[X.index.isin(val_wide_ids)].sort_values('id').drop(columns='id').reset_index(drop=True)\n",
    "    val_wide_y_from_narrow_ = y[y.index.isin(val_wide_ids)].rename_axis('id').reset_index().sort_values('id').drop(columns='id').reset_index(drop=True)\n",
    "\n",
    "\n",
    "    # assert that val_wide have same length as val_df\n",
    "    assert len(val_wide_df_from_narrow_) == len(val_wide_df_), f\"{len(val_wide_df_from_narrow_)} != {len(val_wide_df_)}\"\n",
    "    # assert that both val wide target are same\n",
    "    assert all(val_wide_y_from_narrow_ == val_wide_y_), f\"{val_wide_y_from_narrow_} != {val_wide_y_}\"\n",
    "\n"
   ]
  },
  {
   "cell_type": "code",
   "execution_count": null,
   "metadata": {},
   "outputs": [
    {
     "data": {
      "text/plain": [
       "0       2\n",
       "1       0\n",
       "2       0\n",
       "3       1\n",
       "4       1\n",
       "       ..\n",
       "2731    0\n",
       "2732    1\n",
       "2733    1\n",
       "2734    1\n",
       "2735    0\n",
       "Name: sii, Length: 2736, dtype: int64"
      ]
     },
     "execution_count": 21,
     "metadata": {},
     "output_type": "execute_result"
    }
   ],
   "source": []
  },
  {
   "cell_type": "code",
   "execution_count": null,
   "metadata": {},
   "outputs": [
    {
     "data": {
      "text/plain": [
       "(2736, 2736)"
      ]
     },
     "execution_count": 25,
     "metadata": {},
     "output_type": "execute_result"
    }
   ],
   "source": []
  },
  {
   "cell_type": "code",
   "execution_count": null,
   "metadata": {},
   "outputs": [],
   "source": []
  }
 ],
 "metadata": {
  "kernelspec": {
   "display_name": ".venv",
   "language": "python",
   "name": "python3"
  },
  "language_info": {
   "codemirror_mode": {
    "name": "ipython",
    "version": 3
   },
   "file_extension": ".py",
   "mimetype": "text/x-python",
   "name": "python",
   "nbconvert_exporter": "python",
   "pygments_lexer": "ipython3",
   "version": "3.11.10"
  }
 },
 "nbformat": 4,
 "nbformat_minor": 2
}
