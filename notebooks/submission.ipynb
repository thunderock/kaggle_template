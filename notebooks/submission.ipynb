{
 "cells": [
  {
   "cell_type": "code",
   "execution_count": 9,
   "metadata": {},
   "outputs": [],
   "source": [
    "import pickle\n",
    "\n",
    "def read_dictionary(path):\n",
    "    return pickle.load(open(path, 'rb'))\n"
   ]
  },
  {
   "cell_type": "code",
   "execution_count": 10,
   "metadata": {},
   "outputs": [],
   "source": [
    "base_model_path = '../data/models'"
   ]
  },
  {
   "cell_type": "code",
   "execution_count": 13,
   "metadata": {},
   "outputs": [
    {
     "data": {
      "text/plain": [
       "['rf_train_features.pkl',\n",
       " 'meta_model.pkl',\n",
       " 'rf_train_wide_features.pkl',\n",
       " 'catboost_train_wide_features.pkl',\n",
       " 'xgb_train_wide_features.pkl',\n",
       " 'catboost_train_features.pkl',\n",
       " 'lgbm_train_wide_features.pkl',\n",
       " 'xgb_train_features.pkl',\n",
       " 'lgbm_train_features.pkl']"
      ]
     },
     "execution_count": 13,
     "metadata": {},
     "output_type": "execute_result"
    }
   ],
   "source": [
    "import os\n",
    "import pandas as pd\n",
    "from catboost import CatBoostRegressor\n",
    "from lightgbm import LGBMRegressor\n",
    "from scipy.optimize import minimize\n",
    "from sklearn.ensemble import RandomForestRegressor\n",
    "from sklearn.metrics import cohen_kappa_score, make_scorer\n",
    "from sklearn.model_selection import StratifiedKFold, cross_val_score\n",
    "from xgboost import XGBRegressor\n",
    "from sklearn.linear_model import Ridge\n",
    "from sklearn.ensemble import StackingRegressor\n",
    "pkl_files = [f for f in os.listdir(base_model_path) if f.endswith('.pkl')]\n",
    "pkl_files"
   ]
  },
  {
   "cell_type": "code",
   "execution_count": 14,
   "metadata": {},
   "outputs": [
    {
     "data": {
      "text/plain": [
       "dict_keys(['rf_train_features', 'meta_model', 'rf_train_wide_features', 'catboost_train_wide_features', 'xgb_train_wide_features', 'catboost_train_features', 'lgbm_train_wide_features', 'xgb_train_features', 'lgbm_train_features'])"
      ]
     },
     "execution_count": 14,
     "metadata": {},
     "output_type": "execute_result"
    }
   ],
   "source": [
    "arg_dict = {f[:-4]: read_dictionary(f'{base_model_path}/{f}') for f in pkl_files}\n",
    "arg_dict.keys()"
   ]
  },
  {
   "cell_type": "code",
   "execution_count": 19,
   "metadata": {},
   "outputs": [],
   "source": [
    "base_models = {\n",
    "    'rf': RandomForestRegressor(**arg_dict['rf_train_features']),\n",
    "    'catboost': CatBoostRegressor(**arg_dict['catboost_train_features']),\n",
    "    'xgb': XGBRegressor(**arg_dict['xgb_train_features']),\n",
    "    'lgbm': LGBMRegressor(**arg_dict['lgbm_train_features'])\n",
    "}\n",
    "base_wide_models = {\n",
    "    'rf': RandomForestRegressor(**arg_dict['rf_train_wide_features']),\n",
    "    'catboost': CatBoostRegressor(**arg_dict['catboost_train_wide_features']),\n",
    "    'xgb': XGBRegressor(**arg_dict['xgb_train_wide_features']),\n",
    "    'lgbm': LGBMRegressor(**arg_dict['lgbm_train_wide_features'])\n",
    "}\n",
    "meta_model = Ridge(alpha=arg_dict['meta_model']['alpha'], random_state=42)\n",
    "meta_wide_model = Ridge(alpha=arg_dict['meta_model']['wide_alpha'], random_state=42)\n",
    "wide_weight = arg_dict['meta_model']['wide_weight']"
   ]
  },
  {
   "cell_type": "code",
   "execution_count": 20,
   "metadata": {},
   "outputs": [],
   "source": [
    "stacking_model = StackingRegressor(estimators=base_models, final_estimator=meta_model)\n",
    "stacking_model_wide = StackingRegressor(estimators=base_wide_models, final_estimator=meta_wide_model)"
   ]
  },
  {
   "cell_type": "code",
   "execution_count": null,
   "metadata": {},
   "outputs": [],
   "source": []
  }
 ],
 "metadata": {
  "kernelspec": {
   "display_name": ".venv",
   "language": "python",
   "name": "python3"
  },
  "language_info": {
   "codemirror_mode": {
    "name": "ipython",
    "version": 3
   },
   "file_extension": ".py",
   "mimetype": "text/x-python",
   "name": "python",
   "nbconvert_exporter": "python",
   "pygments_lexer": "ipython3",
   "version": "3.11.10"
  }
 },
 "nbformat": 4,
 "nbformat_minor": 2
}
